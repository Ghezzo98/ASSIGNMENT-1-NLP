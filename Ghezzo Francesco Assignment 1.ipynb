{
 "cells": [
  {
   "cell_type": "markdown",
   "id": "d9c16e77",
   "metadata": {},
   "source": [
    "## NATURAL LANGUAGE PROCESSING, A NAIVE BAYES APPROCH"
   ]
  },
  {
   "cell_type": "markdown",
   "id": "9fdabba5",
   "metadata": {},
   "source": [
    "#### ASSIGNMENT"
   ]
  },
  {
   "cell_type": "markdown",
   "id": "d44335a4",
   "metadata": {},
   "source": [
    "The assignment consists in the development, in NLTK, OpenNLP, SketchEngine or GATE/Annie a Naïve Bayes Classifier able to detect a single class in one of the corpora available as attachments to the chosen package, by distinguishing ENGLISH against NON-ENGLISH. In particular the classifier has to be:\n",
    "\n",
    "1. Trained on a split subset of the chosen corpus, by either using an existing partition between sample documents for training and for test or by using a random splitter among the available ones;\n",
    "\n",
    "2. Devised as a pipeline of any chosen format, including the simplest version based on word2vec on a list of words obtained by one of the available lexical resources.\n",
    "\n",
    "The test of the classifier shall give out the measures of accuracy, precision, recall on the obtained confusion matrix and WILL NOT BE EVALUATED ON THE LEVEL OF THE PERFORMANCES. In other terms, when the confusion is produced, then the value of the assignment will be good, independently of the percentage of false positive and negative results.\n",
    "\n",
    "Deliver a short set of comments on the experience (do not deliver the entire code, but link it on a public repository like GitHub or the GATE Repo). Discuss: size of the corpus, size of the split training and test sets, performance indicators employed and their nature, employability of the classifier as a Probabilistic Language Model"
   ]
  },
  {
   "cell_type": "markdown",
   "id": "0a3c35df",
   "metadata": {},
   "source": [
    "How am I going to do it? There are multiple options on how solve this assignment, I choose 2 of them:\n",
    "1. First half part I'm doing a Bayesian classifier by single tokens, using 4 differente languages. The english language will be my discriminant.\n",
    "2. Second half I do the same but instead of using pure tokens, I use the senteces and the tokens inside the senteces, utilizing an occurrences vector of the most common words (of every language mixed toghether) for every sentences. I'll explain better in details later on."
   ]
  },
  {
   "cell_type": "markdown",
   "id": "539b6428",
   "metadata": {},
   "source": [
    "First of all, let's import all the libraries I need:\n",
    "1. nltk library, to use the function 'download' to download all the corpus we will utilize.\n",
    "2. corpus 'europarl.raw'\n",
    "3. tokenization functions\n",
    "4. set of stopwords\n",
    "5. to use the punctuaction set as stopwords\n",
    "6. Porter stemming for the stemming\n",
    "7. Word Net Lemmatizer for the lemmatization\n",
    "8. function to have the Frequency Distribuition\n",
    "9. Pandas to operate on dataframe\n",
    "10. random for shuffling the dataframe\n",
    "11. sklearn for train-test splitting\n",
    "12. numpy to load external .txt text\n",
    "13. Precision Metrics (sklearn)\n",
    "14. Recall Metrics (sklearn)\n",
    "14. F1_score Metrics (sklearn)\n",
    "15. Accuracy Metrics (sklearn)\n",
    "16. confusion matrix module\n",
    "17. SnowBall Stemmer \n",
    "18. Naive Bayes Classifier by nltk"
   ]
  },
  {
   "cell_type": "code",
   "execution_count": 1,
   "id": "7a6dced7",
   "metadata": {},
   "outputs": [],
   "source": [
    "import nltk\n",
    "from nltk.corpus import europarl_raw\n",
    "from nltk.tokenize import sent_tokenize, word_tokenize\n",
    "from nltk.corpus import stopwords\n",
    "import string\n",
    "from nltk.stem import PorterStemmer\n",
    "from nltk.stem import WordNetLemmatizer\n",
    "from nltk import FreqDist\n",
    "import pandas as pd\n",
    "import random\n",
    "from sklearn.model_selection import train_test_split\n",
    "import numpy as np\n",
    "from sklearn.metrics import precision_score as PR\n",
    "from sklearn.metrics import recall_score as RC\n",
    "from sklearn.metrics import accuracy_score as ACC\n",
    "from sklearn.metrics import ConfusionMatrixDisplay\n",
    "from nltk.stem.snowball import SnowballStemmer\n",
    "from nltk import NaiveBayesClassifier\n",
    "from sklearn.metrics import f1_score as F1\n"
   ]
  },
  {
   "cell_type": "markdown",
   "id": "a3873b30",
   "metadata": {},
   "source": [
    "I've to download the various corpora from 'europarl_raw' package and the set of stopwords I need."
   ]
  },
  {
   "cell_type": "code",
   "execution_count": 2,
   "id": "54f9809e",
   "metadata": {},
   "outputs": [
    {
     "name": "stderr",
     "output_type": "stream",
     "text": [
      "[nltk_data] Downloading package europarl_raw to\n",
      "[nltk_data]     C:\\Users\\39331\\AppData\\Roaming\\nltk_data...\n",
      "[nltk_data]   Package europarl_raw is already up-to-date!\n",
      "[nltk_data] Downloading package stopwords to\n",
      "[nltk_data]     C:\\Users\\39331\\AppData\\Roaming\\nltk_data...\n",
      "[nltk_data]   Package stopwords is already up-to-date!\n"
     ]
    },
    {
     "data": {
      "text/plain": [
       "True"
      ]
     },
     "execution_count": 2,
     "metadata": {},
     "output_type": "execute_result"
    }
   ],
   "source": [
    "nltk.download('europarl_raw')\n",
    "nltk.download(\"stopwords\")\n"
   ]
  },
  {
   "cell_type": "markdown",
   "id": "d5aa3bc8",
   "metadata": {},
   "source": [
    "I create the 4 different text with 4 different languages:\n",
    "1. ENGLISH\n",
    "2. ITALIAN\n",
    "3. DUTCH\n",
    "4. FINNISH"
   ]
  },
  {
   "cell_type": "code",
   "execution_count": 3,
   "id": "2147f0f0",
   "metadata": {},
   "outputs": [],
   "source": [
    "testoING = ' '.join(europarl_raw.english.words())\n",
    "testoITA= ' '.join(europarl_raw.italian.words())\n",
    "testoDUTCH= ' '.join(europarl_raw.dutch.words())\n",
    "testoFINNISH= ' '.join(europarl_raw.finnish.words())"
   ]
  },
  {
   "cell_type": "markdown",
   "id": "cdd932eb",
   "metadata": {},
   "source": [
    "I set all 4 text to lower case."
   ]
  },
  {
   "cell_type": "code",
   "execution_count": 4,
   "id": "c5c9b67d",
   "metadata": {},
   "outputs": [],
   "source": [
    "testoING = testoING.lower()\n",
    "testoITA = testoITA.lower()\n",
    "testoDUTCH = testoDUTCH.lower()\n",
    "testoFINNISH = testoFINNISH.lower()"
   ]
  },
  {
   "cell_type": "markdown",
   "id": "6c1a79f2",
   "metadata": {},
   "source": [
    "### WORD BASED CLASSIFIER"
   ]
  },
  {
   "cell_type": "markdown",
   "id": "868bfe9b",
   "metadata": {},
   "source": [
    "I use the nltk's function 'word_tokenize' to make a tokenization of the words."
   ]
  },
  {
   "cell_type": "code",
   "execution_count": 5,
   "id": "0b170590",
   "metadata": {},
   "outputs": [],
   "source": [
    "t_wordITA = word_tokenize(testoITA)\n",
    "t_wordING = word_tokenize(testoING)\n",
    "t_wordDUTCH = word_tokenize(testoDUTCH)\n",
    "t_wordFINNISH = word_tokenize(testoFINNISH)"
   ]
  },
  {
   "cell_type": "markdown",
   "id": "8af8b261",
   "metadata": {},
   "source": [
    "I create a set of stopwords plus punctuation, one for each language."
   ]
  },
  {
   "cell_type": "code",
   "execution_count": 6,
   "id": "1a8bcbd2",
   "metadata": {},
   "outputs": [],
   "source": [
    "\n",
    "ST = set(stopwords.words(\"english\")+list(string.punctuation))\n",
    "ST_ita = set(stopwords.words(\"italian\")+list(string.punctuation))\n",
    "ST_finnish = set(stopwords.words(\"finnish\")+list(string.punctuation))\n",
    "ST_dutch = set(stopwords.words(\"dutch\")+list(string.punctuation))"
   ]
  },
  {
   "cell_type": "markdown",
   "id": "680236ae",
   "metadata": {},
   "source": [
    "I delete the stop words with the previous set I created and I delete all symbols that aren't letters. I do this for each language, beacuse each language has its Stopwords set."
   ]
  },
  {
   "cell_type": "code",
   "execution_count": 7,
   "id": "476c4dc9",
   "metadata": {},
   "outputs": [],
   "source": [
    "f_ING = [word for word in t_wordING if word not in ST]\n",
    "f_listING = [word for word in f_ING if word.isalpha()]"
   ]
  },
  {
   "cell_type": "code",
   "execution_count": 8,
   "id": "574b3fb2",
   "metadata": {},
   "outputs": [],
   "source": [
    "f_ITA = [word for word in t_wordITA if word not in ST_ita]\n",
    "f_listITA = [word for word in f_ITA if word.isalpha()]"
   ]
  },
  {
   "cell_type": "code",
   "execution_count": 9,
   "id": "65f6ce81",
   "metadata": {},
   "outputs": [],
   "source": [
    "f_DUTCH = [word for word in t_wordDUTCH if word not in ST_dutch]\n",
    "f_listDUTCH = [word for word in f_DUTCH if word.isalpha()]"
   ]
  },
  {
   "cell_type": "code",
   "execution_count": 10,
   "id": "469cf5fc",
   "metadata": {},
   "outputs": [],
   "source": [
    "f_FINNISH = [word for word in t_wordFINNISH if word not in ST_finnish]\n",
    "f_listFINNISH = [word for word in f_FINNISH if word.isalpha()]"
   ]
  },
  {
   "cell_type": "markdown",
   "id": "9c2632ed",
   "metadata": {},
   "source": [
    "I create the Stemmer (Porter specifically) and I use it for each language."
   ]
  },
  {
   "cell_type": "code",
   "execution_count": 11,
   "id": "9d143eff",
   "metadata": {},
   "outputs": [],
   "source": [
    "stemmer = PorterStemmer()"
   ]
  },
  {
   "cell_type": "code",
   "execution_count": 12,
   "id": "eaee80ec",
   "metadata": {},
   "outputs": [],
   "source": [
    "Pstemmed_wordsING = [stemmer.stem(word) for word in f_listING]\n",
    "Pstemmed_wordsITA = [stemmer.stem(word) for word in f_listITA]\n",
    "Pstemmed_wordsDUTCH = [stemmer.stem(word) for word in f_listDUTCH]\n",
    "Pstemmed_wordsFINNISH = [stemmer.stem(word) for word in f_listFINNISH]"
   ]
  },
  {
   "cell_type": "markdown",
   "id": "637a4f51",
   "metadata": {},
   "source": [
    "Now I do the lemmatization on the previous array of stemmed tokens, again one for each language."
   ]
  },
  {
   "cell_type": "code",
   "execution_count": 13,
   "id": "abb01665",
   "metadata": {},
   "outputs": [],
   "source": [
    "lemmatizerITA = WordNetLemmatizer()\n",
    "lemmatizerING = WordNetLemmatizer()\n",
    "lemmatizerDUTCH = WordNetLemmatizer()\n",
    "lemmatizerFINNISH = WordNetLemmatizer()\n",
    "\n",
    "Plemmatized_wordsING = [lemmatizerING.lemmatize(a) for a in Pstemmed_wordsING]\n",
    "\n",
    "Plemmatized_wordsITA = [lemmatizerITA.lemmatize(a) for a in Pstemmed_wordsITA]\n",
    "\n",
    "Plemmatized_wordsDUTCH = [lemmatizerDUTCH.lemmatize(a) for a in Pstemmed_wordsDUTCH]\n",
    "\n",
    "Plemmatized_wordsFINNISH = [lemmatizerFINNISH.lemmatize(a) for a in Pstemmed_wordsFINNISH]"
   ]
  },
  {
   "cell_type": "markdown",
   "id": "2d203fc1",
   "metadata": {},
   "source": [
    "I compute the frequency distribution of the tokens of all languages."
   ]
  },
  {
   "cell_type": "code",
   "execution_count": 14,
   "id": "1a2f8d1c",
   "metadata": {},
   "outputs": [],
   "source": [
    "frequency_distributionING = FreqDist(Plemmatized_wordsING)\n",
    "frequency_distributionITA = FreqDist(Plemmatized_wordsITA)\n",
    "frequency_distributionDUTCH = FreqDist(Plemmatized_wordsDUTCH)\n",
    "frequency_distributionFINNISH = FreqDist(Plemmatized_wordsFINNISH)"
   ]
  },
  {
   "cell_type": "markdown",
   "id": "d91d9c34",
   "metadata": {},
   "source": [
    "Just look for curiosity the 20 most common words for each language. (delete the #)"
   ]
  },
  {
   "cell_type": "code",
   "execution_count": 15,
   "id": "63b3fac8",
   "metadata": {},
   "outputs": [],
   "source": [
    "#frequency_distributionING.most_common(20)\n",
    "#frequency_distributionITA.most_common(20)\n",
    "#frequency_distributionDUTCH.most_common(20)\n",
    "#frequency_distributionFINNISH.most_common(20)"
   ]
  },
  {
   "cell_type": "markdown",
   "id": "94bc85e7",
   "metadata": {},
   "source": [
    "I create a dataframe for each language just because i'm more familiar with it and I known how to work better."
   ]
  },
  {
   "cell_type": "code",
   "execution_count": 16,
   "id": "41f01142",
   "metadata": {},
   "outputs": [],
   "source": [
    "df_ING = pd.DataFrame(Plemmatized_wordsING)\n",
    "df_ITA = pd.DataFrame(Plemmatized_wordsITA)\n",
    "df_DUTCH = pd.DataFrame(Plemmatized_wordsDUTCH)\n",
    "df_FINNISH = pd.DataFrame(Plemmatized_wordsFINNISH)"
   ]
  },
  {
   "cell_type": "markdown",
   "id": "3426f1a7",
   "metadata": {},
   "source": [
    "I assign (real) labels to each dataframe. My will is to distinguish what's english and what's not."
   ]
  },
  {
   "cell_type": "code",
   "execution_count": 17,
   "id": "8b24ba8d",
   "metadata": {},
   "outputs": [],
   "source": [
    "df_ING=df_ING.assign(Expected = 'English')\n",
    "df_ITA=df_ITA.assign(Expected = 'Not English')\n",
    "df_DUTCH=df_DUTCH.assign(Expected = 'Not English')\n",
    "df_FINNISH=df_FINNISH.assign(Expected = 'Not English')"
   ]
  },
  {
   "cell_type": "markdown",
   "id": "7d0ae3be",
   "metadata": {},
   "source": [
    "I made an unique dataframe with all 4 languages."
   ]
  },
  {
   "cell_type": "code",
   "execution_count": 18,
   "id": "41344d6e",
   "metadata": {},
   "outputs": [],
   "source": [
    "df = df_ING.append(df_ITA)\n",
    "df = df.append(df_DUTCH)\n",
    "df = df.append(df_FINNISH)"
   ]
  },
  {
   "cell_type": "markdown",
   "id": "e5093f97",
   "metadata": {},
   "source": [
    "I shuffle the dataframe to be more consistent."
   ]
  },
  {
   "cell_type": "code",
   "execution_count": 19,
   "id": "7c2b152b",
   "metadata": {},
   "outputs": [],
   "source": [
    "df = df.sample(frac = 1)"
   ]
  },
  {
   "cell_type": "markdown",
   "id": "6bb05d3f",
   "metadata": {},
   "source": [
    "I remake a list from the dataframe because the Naive Bayes Classifier wants a dictionary, that I'm going to properly create."
   ]
  },
  {
   "cell_type": "code",
   "execution_count": 20,
   "id": "10edbaae",
   "metadata": {},
   "outputs": [],
   "source": [
    "df_list = df.values.tolist()"
   ]
  },
  {
   "cell_type": "markdown",
   "id": "7b8a3118",
   "metadata": {},
   "source": [
    "I create the dictionary from the list."
   ]
  },
  {
   "cell_type": "code",
   "execution_count": 21,
   "id": "96d79214",
   "metadata": {},
   "outputs": [],
   "source": [
    "new = [[{\"token\":e[0]}, e[1]] for e in df_list]"
   ]
  },
  {
   "cell_type": "markdown",
   "id": "03412145",
   "metadata": {},
   "source": [
    "I'm splitting the list in 2 parts:\n",
    "1. The train, where i'll go to train my Classifier. It's the 75% of the total dict.\n",
    "2. The test, where i'll go to test my Classifier and to calculate the metrics. It's the 25% of the total dict.\n",
    "\n",
    "Just to be sure, i'm shuffling again the dict before splitting."
   ]
  },
  {
   "cell_type": "code",
   "execution_count": 22,
   "id": "4783da0a",
   "metadata": {},
   "outputs": [],
   "source": [
    "train, test = train_test_split(new,\n",
    "                                   random_state=104, \n",
    "                                   test_size=0.25, \n",
    "                                   shuffle=True)"
   ]
  },
  {
   "cell_type": "markdown",
   "id": "8806a94e",
   "metadata": {},
   "source": [
    "I train the Classifier utilizing the nltk Naive Bayes Classifier function, giving the train dictionary to him."
   ]
  },
  {
   "cell_type": "code",
   "execution_count": 23,
   "id": "0af33961",
   "metadata": {},
   "outputs": [],
   "source": [
    "classifier = nltk.NaiveBayesClassifier.train(train) "
   ]
  },
  {
   "cell_type": "markdown",
   "id": "34feb613",
   "metadata": {},
   "source": [
    "These two chunks of code serve to compute the classifier's predictions and the groundtruth. I need those to calculate the metrics."
   ]
  },
  {
   "cell_type": "code",
   "execution_count": 24,
   "id": "1fd39aaa",
   "metadata": {},
   "outputs": [],
   "source": [
    "pred = []\n",
    "true = []\n",
    "#pred= np.empty(0)\n",
    "for x,y in test:\n",
    "    a = classifier.classify(x)\n",
    "    pred.append(a)\n",
    "    true.append(y)"
   ]
  },
  {
   "cell_type": "code",
   "execution_count": 25,
   "id": "ea06626d",
   "metadata": {},
   "outputs": [],
   "source": [
    "pred_N = []\n",
    "y_true_N = []\n",
    "L = len(pred)\n",
    "for i in range(L):\n",
    "    if pred[i]==\"English\":\n",
    "        pred_N.append(1)\n",
    "    else: pred_N.append(0)\n",
    "    if true[i]==\"English\":\n",
    "        y_true_N.append(1)\n",
    "    else: y_true_N.append(0)"
   ]
  },
  {
   "cell_type": "markdown",
   "id": "a77dd327",
   "metadata": {},
   "source": [
    "**Lexicon:**  \n",
    "**TP**:True Positives  \n",
    "**TN**:True Negatives  \n",
    "**FP**:False Positives  \n",
    "**FN**:False Negatives  \n",
    "\n",
    "\n",
    "I compute **accuracy**, **precision**, **recall** and **F1**:\n",
    "\n",
    "**Accuracy:** the ratio of correctly classified items (TP+TN) to the total number of items (TP+TN+FP+FN).\n",
    "\n",
    "$$Accuracy=\\frac{TP+TP}{TP+FP + TN + FN}$$\n",
    "\n",
    "**Precision:** % of items the system detected (i.e., items the system labeled as positive) that are in fact positive (according to the human gold labels).\n",
    "\n",
    "$$Precision=\\frac{TP}{TP+FP}$$\n",
    "\n",
    "**Recall:**% of items actually present in the input that were correctly identified by the system. \n",
    "\n",
    "$$Recall=\\frac{TP}{TP+FN}$$\n",
    "\n",
    "**F1:** the equilibrium between the precision and the recall.\n",
    "\n",
    "$$F1=\\frac{2*Precision*Recall}{Precision+Recall}$$\n",
    "\n",
    "I calculate the **accuracy** (same as before) but using the accuracy function that nltk provides us."
   ]
  },
  {
   "cell_type": "code",
   "execution_count": 26,
   "id": "0a9bd908",
   "metadata": {},
   "outputs": [
    {
     "name": "stdout",
     "output_type": "stream",
     "text": [
      "Accuracy by nltk: 0.969\n",
      "ACCURACY: 0.9692783389239735\n",
      "PRECISION: 0.9443571150888224\n",
      "RECALL: 0.9192938001842833\n",
      "F1: 0.9316569256038486\n"
     ]
    }
   ],
   "source": [
    "print('Accuracy by nltk: {:4.3f}'.format(nltk.classify.accuracy(classifier, test))) \n",
    "print(f\"ACCURACY: {ACC(y_true_N, pred_N)}\")\n",
    "print(f\"PRECISION: {PR(y_true_N, pred_N)}\")\n",
    "print(f\"RECALL: {RC(y_true_N, pred_N)}\")\n",
    "print(f\"F1: {F1(y_true_N, pred_N)}\") \n",
    "\n"
   ]
  },
  {
   "cell_type": "markdown",
   "id": "200d0624",
   "metadata": {},
   "source": [
    "I compute and display the Confusion Matrix by sklearn"
   ]
  },
  {
   "cell_type": "code",
   "execution_count": 27,
   "id": "ffbb760a",
   "metadata": {},
   "outputs": [
    {
     "data": {
      "text/plain": [
       "<sklearn.metrics._plot.confusion_matrix.ConfusionMatrixDisplay at 0x229b9a3efd0>"
      ]
     },
     "execution_count": 27,
     "metadata": {},
     "output_type": "execute_result"
    },
    {
     "data": {
      "image/png": "[encoded data removed]",
      "text/plain": [
       "<Figure size 432x288 with 2 Axes>"
      ]
     },
     "metadata": {
      "needs_background": "light"
     },
     "output_type": "display_data"
    }
   ],
   "source": [
    "ConfusionMatrixDisplay.from_predictions(\n",
    "    true,\n",
    "    pred,\n",
    "    display_labels=[\"English\", \"Not English\"]\n",
    ")"
   ]
  },
  {
   "cell_type": "markdown",
   "id": "0b372ee4",
   "metadata": {},
   "source": [
    "I define a function that returns the percentage of tokens that are contained in my reference dictionary (dictionary of tokens, in this case I use Snowball).  \n",
    "The #'s are for debugging and see how much time is left to finish the computing.\n"
   ]
  },
  {
   "cell_type": "code",
   "execution_count": 28,
   "id": "26151e92",
   "metadata": {},
   "outputs": [],
   "source": [
    "def my_fun(diz, text):\n",
    "    count = 0\n",
    "    mancante = 0\n",
    "    lunghezza = len(text)\n",
    "    #print(lunghezza)\n",
    "    #aux = 0\n",
    "    for i in text:\n",
    "        #aux +=1\n",
    "        #if(aux%(int(lunghezza/10))==0):\n",
    "            #mancante+=1\n",
    "            #print(mancante*10)\n",
    "        if i in diz:\n",
    "            count+=1\n",
    "\n",
    "    perc_bow = count/lunghezza\n",
    "    print(perc_bow)"
   ]
  },
  {
   "cell_type": "markdown",
   "id": "a10e8efa",
   "metadata": {},
   "source": [
    "I save the reference dictionary."
   ]
  },
  {
   "cell_type": "code",
   "execution_count": 29,
   "id": "fe2c2a03",
   "metadata": {},
   "outputs": [],
   "source": [
    "filename = 'C:\\\\Users\\\\39331\\\\Desktop\\\\UNIVR\\\\Natural Language\\\\progetto\\\\english bow.txt'\n",
    "data = np.loadtxt(filename, delimiter=',', skiprows=1, dtype=str)\n",
    "#print(data)"
   ]
  },
  {
   "cell_type": "markdown",
   "id": "fadfcb7f",
   "metadata": {},
   "source": [
    "I launch my function. As we can see, normally, if the text is english, the percentage is over the $\\sim$85%.\n",
    "If it's written in another language, it will give us under $\\sim$15%."
   ]
  },
  {
   "cell_type": "code",
   "execution_count": 30,
   "id": "844cdf7c",
   "metadata": {
    "scrolled": true
   },
   "outputs": [
    {
     "name": "stdout",
     "output_type": "stream",
     "text": [
      "0.9013704933118611\n"
     ]
    }
   ],
   "source": [
    "my_fun(data,Plemmatized_wordsING)"
   ]
  },
  {
   "cell_type": "code",
   "execution_count": 31,
   "id": "bcd02a5f",
   "metadata": {},
   "outputs": [
    {
     "name": "stdout",
     "output_type": "stream",
     "text": [
      "0.08952543592963862\n"
     ]
    }
   ],
   "source": [
    "my_fun(data,Plemmatized_wordsDUTCH)"
   ]
  },
  {
   "cell_type": "markdown",
   "id": "bd7c04c4",
   "metadata": {},
   "source": [
    "### SENTECES BASED CLASSIFIER"
   ]
  },
  {
   "cell_type": "markdown",
   "id": "bfedf2d1",
   "metadata": {},
   "source": [
    "I already have the 4 texts of the 4 languages.\n",
    "I tokenize them by sentences using the nltk's function."
   ]
  },
  {
   "cell_type": "code",
   "execution_count": 32,
   "id": "c9c3b947",
   "metadata": {},
   "outputs": [],
   "source": [
    "testo_sentING = sent_tokenize(testoING)\n",
    "testo_sentITA = sent_tokenize(testoITA)\n",
    "testo_sentDUTCH = sent_tokenize(testoDUTCH)\n",
    "testo_sentFINNISH = sent_tokenize(testoFINNISH)"
   ]
  },
  {
   "cell_type": "markdown",
   "id": "5a5d459a",
   "metadata": {},
   "source": [
    "keeping the senteces structure, I tokenize every words inside of senteces."
   ]
  },
  {
   "cell_type": "code",
   "execution_count": 33,
   "id": "df0505b2",
   "metadata": {},
   "outputs": [],
   "source": [
    "testo_wordING = [word_tokenize(s) for s in testo_sentING]\n",
    "testo_wordITA = [word_tokenize(s) for s in testo_sentITA]\n",
    "testo_wordDUTCH = [word_tokenize(s) for s in testo_sentDUTCH]\n",
    "testo_wordFINNISH = [word_tokenize(s) for s in testo_sentFINNISH]"
   ]
  },
  {
   "cell_type": "markdown",
   "id": "e7d134fa",
   "metadata": {},
   "source": [
    "Now, i'm gonna do the same process saw before with the word classfier but keeping the senteces structure under the form of array of senteces, where the senteces are array of tokens."
   ]
  },
  {
   "cell_type": "code",
   "execution_count": 34,
   "id": "ea412e01",
   "metadata": {},
   "outputs": [],
   "source": [
    "filtered_ING = [[word for word in s if word.casefold() not in ST] for s in testo_wordING]\n",
    "filtered_listING = [[ word for word in s if word.isalpha()]for s in filtered_ING]\n",
    "\n",
    "filtered_ITA = [[word for word in s if word.casefold() not in ST_ita] for s in testo_wordITA]\n",
    "filtered_listITA = [[ word for word in s if word.isalpha()]for s in filtered_ITA]\n",
    "\n",
    "filtered_DUTCH = [[word for word in s if word.casefold() not in ST_dutch] for s in testo_wordDUTCH]\n",
    "filtered_listDUTCH = [[ word for word in s if word.isalpha()]for s in filtered_DUTCH]\n",
    "\n",
    "filtered_FINNISH = [[word for word in s if word.casefold() not in ST_finnish] for s in testo_wordFINNISH]\n",
    "filtered_listFINNISH = [[ word for word in s if word.isalpha()]for s in filtered_FINNISH]"
   ]
  },
  {
   "cell_type": "markdown",
   "id": "1c8538d5",
   "metadata": {},
   "source": [
    "This time for the stemming, I can do different stemming one for each language due to the SnowBall Stemming repository."
   ]
  },
  {
   "cell_type": "code",
   "execution_count": 35,
   "id": "466ea8a8",
   "metadata": {},
   "outputs": [],
   "source": [
    "stemmed_wordsING=SnowballStemmer('english')\n",
    "stemmed_wordsITA=SnowballStemmer('italian')\n",
    "stemmed_wordsDUTCH=SnowballStemmer('dutch')\n",
    "stemmed_wordsFINNISH=SnowballStemmer('finnish')"
   ]
  },
  {
   "cell_type": "markdown",
   "id": "9752e7a2",
   "metadata": {},
   "source": [
    "Same lemmatization as seen before, but also here keeping the structure of the arrays of senteces."
   ]
  },
  {
   "cell_type": "code",
   "execution_count": 36,
   "id": "f8a0511c",
   "metadata": {},
   "outputs": [],
   "source": [
    "lemmatized_wordsING = WordNetLemmatizer()\n",
    "lemmatized_wordsITA = WordNetLemmatizer()\n",
    "lemmatized_wordsDUTCH = WordNetLemmatizer()\n",
    "lemmatized_wordsFINNISH = WordNetLemmatizer()"
   ]
  },
  {
   "cell_type": "code",
   "execution_count": 37,
   "id": "860c8123",
   "metadata": {},
   "outputs": [],
   "source": [
    "array_sent_tokensING = [\n",
    "        [\n",
    "            lemmatized_wordsING.lemmatize(stemmed_wordsING.stem(word))\n",
    "            for word in s \n",
    "        ]\n",
    "        for s in filtered_listING\n",
    "    ]\n",
    "\n",
    "array_sent_tokensITA = [\n",
    "        [\n",
    "            lemmatized_wordsITA.lemmatize(stemmed_wordsITA.stem(word))\n",
    "            for word in s \n",
    "        ]\n",
    "        for s in filtered_listITA\n",
    "    ]\n",
    "\n",
    "array_sent_tokensDUTCH = [\n",
    "        [\n",
    "            lemmatized_wordsDUTCH.lemmatize(stemmed_wordsDUTCH.stem(word))\n",
    "            for word in s \n",
    "        ]\n",
    "        for s in filtered_listDUTCH\n",
    "    ]\n",
    "\n",
    "array_sent_tokensFINNISH= [\n",
    "        [\n",
    "            lemmatized_wordsFINNISH.lemmatize(stemmed_wordsFINNISH.stem(word))\n",
    "            for word in s \n",
    "        ]\n",
    "        for s in filtered_listFINNISH\n",
    "    ]\n"
   ]
  },
  {
   "cell_type": "markdown",
   "id": "ef62330e",
   "metadata": {},
   "source": [
    "I merge the not-english arrays of senteces together."
   ]
  },
  {
   "cell_type": "code",
   "execution_count": 38,
   "id": "4b83a293",
   "metadata": {},
   "outputs": [],
   "source": [
    "array_sent_non_eng = array_sent_tokensITA + array_sent_tokensDUTCH + array_sent_tokensFINNISH"
   ]
  },
  {
   "cell_type": "markdown",
   "id": "46215e0f",
   "metadata": {},
   "source": [
    "I merge the not-english arrays of tokens together."
   ]
  },
  {
   "cell_type": "code",
   "execution_count": 39,
   "id": "282f385c",
   "metadata": {},
   "outputs": [],
   "source": [
    "english = Plemmatized_wordsING\n",
    "not_english = Plemmatized_wordsITA + Plemmatized_wordsDUTCH + Plemmatized_wordsFINNISH"
   ]
  },
  {
   "cell_type": "markdown",
   "id": "e3541d54",
   "metadata": {},
   "source": [
    "I create the frequency distribution's array for all the 4 languages together."
   ]
  },
  {
   "cell_type": "code",
   "execution_count": 40,
   "id": "ff50b498",
   "metadata": {},
   "outputs": [],
   "source": [
    "frequency_distribution = FreqDist(Plemmatized_wordsING)+FreqDist(Plemmatized_wordsITA)+FreqDist(Plemmatized_wordsDUTCH)+FreqDist(Plemmatized_wordsFINNISH)"
   ]
  },
  {
   "cell_type": "markdown",
   "id": "f8ef33fd",
   "metadata": {},
   "source": [
    "I save only the most N common words in an array."
   ]
  },
  {
   "cell_type": "code",
   "execution_count": 41,
   "id": "8f888b70",
   "metadata": {},
   "outputs": [],
   "source": [
    "N = 1000\n",
    "most_common = list(frequency_distribution)[:N]"
   ]
  },
  {
   "cell_type": "markdown",
   "id": "3d2b714c",
   "metadata": {},
   "source": [
    "I define a function that return true/false if inside a sentece there is a common word that is inside my most_common array."
   ]
  },
  {
   "cell_type": "code",
   "execution_count": 42,
   "id": "44b832dd",
   "metadata": {},
   "outputs": [],
   "source": [
    "def occurrences(sentence):\n",
    "    return {f'contains({word})': (word in set(sentence)) for word in most_common}"
   ]
  },
  {
   "cell_type": "markdown",
   "id": "d5ec0571",
   "metadata": {},
   "source": [
    "I define:  \n",
    "**label_one**: an array lenght as the senteces array, full of  \"1\", meaning the language is english.  \n",
    "**occurrences_eng**: an array created by using the function \"occurences\" on every senteces of the array. The result will be an array as long as the number of senteces and for every senteces I have an array of True/False long N where I can find if in there there were any common word.  \n",
    "**english_dataset**: I \"zip\" occurrences_eng with label_one and I cast it to a list."
   ]
  },
  {
   "cell_type": "code",
   "execution_count": 43,
   "id": "8a3d4a28",
   "metadata": {},
   "outputs": [],
   "source": [
    "label_one = [1] * len(array_sent_tokensING)\n",
    "occurrences_eng = [occurrences(p) for p in array_sent_tokensING]\n",
    "english_dataset= list(zip(occurrences_eng, label_one))"
   ]
  },
  {
   "cell_type": "markdown",
   "id": "922a9245",
   "metadata": {},
   "source": [
    "Same as before, but this time the labels are \"0\" because they aren't english."
   ]
  },
  {
   "cell_type": "code",
   "execution_count": 44,
   "id": "64556150",
   "metadata": {},
   "outputs": [],
   "source": [
    "label_zero = [0] * len(not_english)\n",
    "occurrences_not_eng = [occurrences(p) for p in array_sent_non_eng]\n",
    "not_english_dataset= list(zip(occurrences_not_eng, label_zero))"
   ]
  },
  {
   "cell_type": "markdown",
   "id": "41c61e13",
   "metadata": {},
   "source": [
    "I merge the two datasets."
   ]
  },
  {
   "cell_type": "code",
   "execution_count": 45,
   "id": "b4f7fb31",
   "metadata": {},
   "outputs": [],
   "source": [
    "dataset=english_dataset+not_english_dataset"
   ]
  },
  {
   "cell_type": "markdown",
   "id": "74e93f10",
   "metadata": {},
   "source": [
    "I shuffle it."
   ]
  },
  {
   "cell_type": "code",
   "execution_count": 46,
   "id": "af6af504",
   "metadata": {},
   "outputs": [],
   "source": [
    "random.shuffle(dataset)"
   ]
  },
  {
   "cell_type": "markdown",
   "id": "830390b3",
   "metadata": {},
   "source": [
    "Split train-test like before."
   ]
  },
  {
   "cell_type": "code",
   "execution_count": 47,
   "id": "ebe2c0cb",
   "metadata": {},
   "outputs": [],
   "source": [
    "X_train, X_test = train_test_split(dataset,\n",
    "                                   random_state=104, \n",
    "                                   test_size=0.25, \n",
    "                                   shuffle=True)"
   ]
  },
  {
   "cell_type": "markdown",
   "id": "0ca17f71",
   "metadata": {},
   "source": [
    "I train the classifier."
   ]
  },
  {
   "cell_type": "code",
   "execution_count": 48,
   "id": "f94ef971",
   "metadata": {},
   "outputs": [],
   "source": [
    "classifier = nltk.NaiveBayesClassifier.train(X_train) "
   ]
  },
  {
   "cell_type": "markdown",
   "id": "1b68f3bc",
   "metadata": {},
   "source": [
    "I compute the classifier predictions and the groundtruth."
   ]
  },
  {
   "cell_type": "code",
   "execution_count": 49,
   "id": "6472d3c9",
   "metadata": {},
   "outputs": [],
   "source": [
    "y_pred = [classifier.classify(f) for (f, label) in X_test]\n",
    "y_true = [label for (f, label) in X_test]"
   ]
  },
  {
   "cell_type": "markdown",
   "id": "3fca9b49",
   "metadata": {},
   "source": [
    "I compute, as seen before, the various metrics."
   ]
  },
  {
   "cell_type": "code",
   "execution_count": 50,
   "id": "b61e7746",
   "metadata": {},
   "outputs": [
    {
     "name": "stdout",
     "output_type": "stream",
     "text": [
      "ACCURACY: 0.9900439375525848\n",
      "PRECISION: 0.9976905311778291\n",
      "RECALL: 0.9592248687928946\n",
      "F1: 0.9780796542142637\n"
     ]
    }
   ],
   "source": [
    "print(f\"ACCURACY: {ACC(y_true, y_pred)}\")\n",
    "print(f\"PRECISION: {PR(y_true, y_pred)}\")\n",
    "print(f\"RECALL: {RC(y_true, y_pred)}\")\n",
    "print(f\"F1: {F1(y_true, y_pred)}\")"
   ]
  },
  {
   "cell_type": "markdown",
   "id": "0d181a47",
   "metadata": {},
   "source": [
    "Accuracy by nltk."
   ]
  },
  {
   "cell_type": "code",
   "execution_count": 51,
   "id": "15c83468",
   "metadata": {},
   "outputs": [
    {
     "name": "stdout",
     "output_type": "stream",
     "text": [
      "ACCURACY BY NLTK: 0.990\n"
     ]
    }
   ],
   "source": [
    "print('ACCURACY BY NLTK: {:4.3f}'.format(nltk.classify.accuracy(classifier, X_test))) "
   ]
  },
  {
   "cell_type": "markdown",
   "id": "2b411c3a",
   "metadata": {},
   "source": [
    "I compute and display the Confusion Matrix."
   ]
  },
  {
   "cell_type": "code",
   "execution_count": 52,
   "id": "89a85398",
   "metadata": {},
   "outputs": [
    {
     "data": {
      "text/plain": [
       "<sklearn.metrics._plot.confusion_matrix.ConfusionMatrixDisplay at 0x229e0ce8280>"
      ]
     },
     "execution_count": 52,
     "metadata": {},
     "output_type": "execute_result"
    },
    {
     "data": {
      "image/png": "[encoded data removed]",
      "text/plain": [
       "<Figure size 432x288 with 2 Axes>"
      ]
     },
     "metadata": {
      "needs_background": "light"
     },
     "output_type": "display_data"
    }
   ],
   "source": [
    "ConfusionMatrixDisplay.from_predictions(\n",
    "    y_true,\n",
    "    y_pred,\n",
    "    display_labels=[\"English\", \"Not English\"]\n",
    ")"
   ]
  },
  {
   "cell_type": "markdown",
   "id": "5e7e2725",
   "metadata": {},
   "source": [
    "### ANSWER TO THE ASSIGNMENT"
   ]
  },
  {
   "cell_type": "markdown",
   "id": "a7219e27",
   "metadata": {},
   "source": [
    "1. \"Size of the corpus, size of the split training and test sets\"  \n",
    "    I select 4 corpora: english, italian, dutch and finnish.  \n",
    "    The classifier analizes in the first half part tokens and in the second part sentences:\n",
    "    - in the fist part I have 243416 english tokens and 823843 not english tokens.  \n",
    "    - in the second part I have 20095 english sentences and 65480 not english sentences.\n",
    "    I I splitted my dataset in 75% train and 25% test  \n",
    "    \n",
    "2. \"Performance indicators employed and their nature\"   \n",
    "    All the metrics return astonishing results, particularly the results obtain in the second part, where i classify by using the most common words inside the senteces.    \n",
    "    \n",
    "3. \"Employability of the classifier as a Probabilistic Language Model\"  \n",
    "The classifier return reliable result. During training phase it learns the most common words belong to each class. The results are optimal in both cases, in the senteces case are a little better. The Naive Bayes Classifier is now able to classify:   \n",
    "    1. In the word classify what is the probability of a single token belongs to an 'ENGLISH' or a 'NON ENGLISH' class.\n",
    "    2. In the senteces classify what is the probability that a sentence belongs to an 'ENGLISH' or a 'NON ENGLISH' class."
   ]
  }
 ],
 "metadata": {
  "kernelspec": {
   "display_name": "Python 3",
   "language": "python",
   "name": "python3"
  },
  "language_info": {
   "codemirror_mode": {
    "name": "ipython",
    "version": 3
   },
   "file_extension": ".py",
   "mimetype": "text/x-python",
   "name": "python",
   "nbconvert_exporter": "python",
   "pygments_lexer": "ipython3",
   "version": "3.8.8"
  }
 },
 "nbformat": 4,
 "nbformat_minor": 5
}
